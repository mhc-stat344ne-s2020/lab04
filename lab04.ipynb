{
  "nbformat": 4,
  "nbformat_minor": 0,
  "metadata": {
    "colab": {
      "name": "lab04.ipynb",
      "provenance": [],
      "collapsed_sections": []
    },
    "kernelspec": {
      "name": "python3",
      "display_name": "Python 3"
    },
    "accelerator": "GPU"
  },
  "cells": [
    {
      "cell_type": "markdown",
      "metadata": {
        "id": "ssyEy81nY67K",
        "colab_type": "text"
      },
      "source": [
        "We're going to work with one of the examples from Chollet in this lab.  In this example, our goal is to use text movie reviews from IMDB (the Internet Move DataBase) as input, and our goal will be to classify the reviews as either \"positive\" or \"negative\".\n",
        "\n",
        "I have taken all of the code below to preprocess the data and fit a model in Keras straight out of Chapter 4 of Chollet.  The book describes how the code works in some detail, so I encourage you to give it a read.\n",
        "\n",
        "### Import modules"
      ]
    },
    {
      "cell_type": "code",
      "metadata": {
        "id": "IjIHVO6aJQg7",
        "colab_type": "code",
        "colab": {}
      },
      "source": [
        "from keras import models\n",
        "from keras import layers\n",
        "from keras import optimizers\n",
        "from keras.datasets import imdb\n",
        "import matplotlib.pyplot as plt\n",
        "from scipy.special import expit as sigmoid\n",
        "import numpy as np"
      ],
      "execution_count": 0,
      "outputs": []
    },
    {
      "cell_type": "markdown",
      "metadata": {
        "id": "xfXUwnHKlM2m",
        "colab_type": "text"
      },
      "source": [
        "### Load data and preprocess it\n",
        "This will take a few seconds to run; it downloads a large data set.\n",
        "\n",
        "We print out a \"decoded\" review to see what they look like.  But the reviews themselves are one-hot encoded (see next code cell)"
      ]
    },
    {
      "cell_type": "code",
      "metadata": {
        "id": "nyXiHGfW3e1j",
        "colab_type": "code",
        "colab": {}
      },
      "source": [
        "(train_data, train_labels), (test_data, test_labels) = imdb.load_data(num_words=10000)\n",
        "word_index = imdb.get_word_index()\n",
        "reverse_word_index = dict(\n",
        "    [(value, key) for (key, value) in word_index.items()])\n",
        "decoded_review = ' '.join(\n",
        "    [reverse_word_index.get(i - 3, '?') for i in train_data[0]])\n",
        "\n",
        "def vectorize_sequences(sequences, dimension=10000):\n",
        "    results = np.zeros((len(sequences), dimension))\n",
        "    for i, sequence in enumerate(sequences):\n",
        "        results[i, sequence] = 1.\n",
        "    return results\n",
        "\n",
        "x_train = vectorize_sequences(train_data)\n",
        "x_test = vectorize_sequences(test_data)\n",
        "y_train = np.asarray(train_labels).astype('float32')\n",
        "y_test = np.asarray(test_labels).astype('float32')"
      ],
      "execution_count": 0,
      "outputs": []
    },
    {
      "cell_type": "code",
      "metadata": {
        "id": "2v3ZYAg6mwJr",
        "colab_type": "code",
        "colab": {
          "base_uri": "https://localhost:8080/",
          "height": 125
        },
        "outputId": "f4dec83a-877d-4ee6-94a9-7a2d504488a0"
      },
      "source": [
        "print(\"x_train shape = \" + str(x_train.shape))\n",
        "print(\"y_train shape = \" + str(y_train.shape))\n",
        "print(\"The first review: \" + decoded_review)\n",
        "print(\"The first review encoded as 1's and 0's for presence/absence of each of the 10000 most commonly occurring words.\")\n",
        "print(x_train[0, :]) # currently, x_train has observations in rows; this prints the "
      ],
      "execution_count": 38,
      "outputs": [
        {
          "output_type": "stream",
          "text": [
            "x_train shape = (25000, 10000)\n",
            "y_train shape = (25000,)\n",
            "The first review: ? this film was just brilliant casting location scenery story direction everyone's really suited the part they played and you could just imagine being there robert ? is an amazing actor and now the same being director ? father came from the same scottish island as myself so i loved the fact there was a real connection with this film the witty remarks throughout the film were great it was just brilliant so much that i bought the film as soon as it was released for ? and would recommend it to everyone to watch and the fly fishing was amazing really cried at the end it was so sad and you know what they say if you cry at a film it must have been good and this definitely was also ? to the two little boy's that played the ? of norman and paul they were just brilliant children are often left out of the ? list i think because the stars that play them all grown up are such a big profile for the whole film but these children are amazing and should be praised for what they have done don't you think the whole story was so lovely because it was true and was someone's life after all that was shared with us all\n",
            "The first review encoded as 1's and 0's for presence/absence of each of the 10000 most commonly occurring words.\n",
            "[0. 1. 1. ... 0. 0. 0.]\n"
          ],
          "name": "stdout"
        }
      ]
    },
    {
      "cell_type": "markdown",
      "metadata": {
        "id": "RVgnF1odm0wj",
        "colab_type": "text"
      },
      "source": [
        "### Define Keras model and fit it"
      ]
    },
    {
      "cell_type": "code",
      "metadata": {
        "id": "wr1aZ_TomwMs",
        "colab_type": "code",
        "colab": {}
      },
      "source": [
        "model = models.Sequential()\n",
        "model.add(layers.Dense(16, activation='relu', input_shape=(10000,)))\n",
        "model.add(layers.Dense(16, activation='relu'))\n",
        "model.add(layers.Dense(1, activation='sigmoid'))\n",
        "\n",
        "model.compile(optimizer=optimizers.RMSprop(lr=0.001),\n",
        "              loss='binary_crossentropy',\n",
        "              metrics=['accuracy'])"
      ],
      "execution_count": 0,
      "outputs": []
    },
    {
      "cell_type": "markdown",
      "metadata": {
        "id": "8cAFmYIDmd13",
        "colab_type": "text"
      },
      "source": [
        "### Split into train and validation sets, fit the model."
      ]
    },
    {
      "cell_type": "code",
      "metadata": {
        "id": "g_Oz72ts6Ikt",
        "colab_type": "code",
        "colab": {
          "base_uri": "https://localhost:8080/",
          "height": 737
        },
        "outputId": "0c725d3d-4818-496a-f3c4-c7e881b60dfd"
      },
      "source": [
        "x_val = x_train[:10000]\n",
        "partial_x_train = x_train[10000:]\n",
        "y_val = y_train[:10000]\n",
        "partial_y_train = y_train[10000:]\n",
        "\n",
        "history = model.fit(partial_x_train,\n",
        "                    partial_y_train,\n",
        "                    epochs=20,\n",
        "                    batch_size=512,\n",
        "                    validation_data=(x_val, y_val))"
      ],
      "execution_count": 46,
      "outputs": [
        {
          "output_type": "stream",
          "text": [
            "Train on 15000 samples, validate on 10000 samples\n",
            "Epoch 1/20\n",
            "15000/15000 [==============================] - 2s 103us/step - loss: 0.0021 - acc: 0.9999 - val_loss: 0.7253 - val_acc: 0.8606\n",
            "Epoch 2/20\n",
            "15000/15000 [==============================] - 1s 99us/step - loss: 0.0041 - acc: 0.9994 - val_loss: 0.7379 - val_acc: 0.8652\n",
            "Epoch 3/20\n",
            "15000/15000 [==============================] - 1s 99us/step - loss: 0.0012 - acc: 1.0000 - val_loss: 0.7655 - val_acc: 0.8654\n",
            "Epoch 4/20\n",
            "15000/15000 [==============================] - 2s 100us/step - loss: 0.0046 - acc: 0.9989 - val_loss: 0.7861 - val_acc: 0.8647\n",
            "Epoch 5/20\n",
            "15000/15000 [==============================] - 2s 102us/step - loss: 6.8074e-04 - acc: 1.0000 - val_loss: 0.8069 - val_acc: 0.8640\n",
            "Epoch 6/20\n",
            "15000/15000 [==============================] - 1s 100us/step - loss: 6.0321e-04 - acc: 1.0000 - val_loss: 0.8389 - val_acc: 0.8643\n",
            "Epoch 7/20\n",
            "15000/15000 [==============================] - 2s 100us/step - loss: 0.0047 - acc: 0.9988 - val_loss: 0.8770 - val_acc: 0.8648\n",
            "Epoch 8/20\n",
            "15000/15000 [==============================] - 2s 102us/step - loss: 3.0205e-04 - acc: 1.0000 - val_loss: 0.8854 - val_acc: 0.8637\n",
            "Epoch 9/20\n",
            "15000/15000 [==============================] - 2s 103us/step - loss: 2.4989e-04 - acc: 1.0000 - val_loss: 0.9117 - val_acc: 0.8634\n",
            "Epoch 10/20\n",
            "15000/15000 [==============================] - 2s 103us/step - loss: 0.0017 - acc: 0.9995 - val_loss: 0.9988 - val_acc: 0.8516\n",
            "Epoch 11/20\n",
            "15000/15000 [==============================] - 2s 104us/step - loss: 2.5128e-04 - acc: 1.0000 - val_loss: 0.9493 - val_acc: 0.8608\n",
            "Epoch 12/20\n",
            "15000/15000 [==============================] - 2s 103us/step - loss: 1.3695e-04 - acc: 1.0000 - val_loss: 0.9637 - val_acc: 0.8618\n",
            "Epoch 13/20\n",
            "15000/15000 [==============================] - 2s 103us/step - loss: 1.1100e-04 - acc: 1.0000 - val_loss: 0.9921 - val_acc: 0.8602\n",
            "Epoch 14/20\n",
            "15000/15000 [==============================] - 2s 102us/step - loss: 0.0015 - acc: 0.9995 - val_loss: 1.0245 - val_acc: 0.8624\n",
            "Epoch 15/20\n",
            "15000/15000 [==============================] - 2s 105us/step - loss: 7.7897e-05 - acc: 1.0000 - val_loss: 1.0256 - val_acc: 0.8612\n",
            "Epoch 16/20\n",
            "15000/15000 [==============================] - 2s 103us/step - loss: 5.7088e-05 - acc: 1.0000 - val_loss: 1.0372 - val_acc: 0.8615\n",
            "Epoch 17/20\n",
            "15000/15000 [==============================] - 2s 103us/step - loss: 4.6087e-05 - acc: 1.0000 - val_loss: 1.0644 - val_acc: 0.8601\n",
            "Epoch 18/20\n",
            "15000/15000 [==============================] - 2s 103us/step - loss: 0.0033 - acc: 0.9991 - val_loss: 1.1058 - val_acc: 0.8604\n",
            "Epoch 19/20\n",
            "15000/15000 [==============================] - 2s 103us/step - loss: 3.1053e-05 - acc: 1.0000 - val_loss: 1.1011 - val_acc: 0.8620\n",
            "Epoch 20/20\n",
            "15000/15000 [==============================] - 2s 100us/step - loss: 2.3970e-05 - acc: 1.0000 - val_loss: 1.1075 - val_acc: 0.8623\n"
          ],
          "name": "stdout"
        }
      ]
    },
    {
      "cell_type": "markdown",
      "metadata": {
        "id": "vpb6Iw9GzIP1",
        "colab_type": "text"
      },
      "source": [
        "### Plot training and validation set loss and accuracy over the course of model estimation."
      ]
    },
    {
      "cell_type": "code",
      "metadata": {
        "id": "s_KQmqgw7Mbl",
        "colab_type": "code",
        "colab": {
          "base_uri": "https://localhost:8080/",
          "height": 295
        },
        "outputId": "16face9d-a152-4d6d-943d-9113b1b67af6"
      },
      "source": [
        "history_dict = history.history\n",
        "history_dict.keys()\n",
        "loss_values = history_dict['loss']\n",
        "val_loss_values = history_dict['val_loss']\n",
        "\n",
        "epochs = range(1, len(loss_values) + 1)\n",
        "\n",
        "plt.plot(epochs, loss_values, 'bo', label='Training loss')\n",
        "plt.plot(epochs, val_loss_values, 'b', label='Validation loss')\n",
        "plt.title('Training and validation loss')\n",
        "plt.xlabel('Epochs')\n",
        "plt.ylabel('Loss')\n",
        "plt.legend()\n",
        "\n",
        "plt.show()"
      ],
      "execution_count": 64,
      "outputs": [
        {
          "output_type": "display_data",
          "data": {
            "image/png": "[encoded data removed]",
            "text/plain": [
              "<Figure size 432x288 with 1 Axes>"
            ]
          },
          "metadata": {
            "tags": []
          }
        }
      ]
    },
    {
      "cell_type": "code",
      "metadata": {
        "id": "6rj913Lb6BGS",
        "colab_type": "code",
        "colab": {
          "base_uri": "https://localhost:8080/",
          "height": 295
        },
        "outputId": "784308fc-4b15-4aa3-cff9-61038471f8a1"
      },
      "source": [
        "acc = history_dict['acc']\n",
        "val_acc = history_dict['val_acc']\n",
        "\n",
        "plt.plot(epochs, acc, 'bo', label='Training acc')\n",
        "plt.plot(epochs, val_acc, 'b', label='Validation acc')\n",
        "plt.title('Training and validation accuracy')\n",
        "plt.xlabel('Epochs')\n",
        "plt.ylabel('Accuracy')\n",
        "plt.legend()\n",
        "\n",
        "plt.show()"
      ],
      "execution_count": 65,
      "outputs": [
        {
          "output_type": "display_data",
          "data": {
            "image/png": "[encoded data removed]",
            "text/plain": [
              "<Figure size 432x288 with 1 Axes>"
            ]
          },
          "metadata": {
            "tags": []
          }
        }
      ]
    },
    {
      "cell_type": "markdown",
      "metadata": {
        "id": "FNIU7KkdmmCD",
        "colab_type": "text"
      },
      "source": [
        "### Get test set performance"
      ]
    },
    {
      "cell_type": "code",
      "metadata": {
        "id": "DTAkK_wwkOOQ",
        "colab_type": "code",
        "colab": {
          "base_uri": "https://localhost:8080/",
          "height": 52
        },
        "outputId": "8e308582-dd7e-49cd-b7f8-b237a1e9ca48"
      },
      "source": [
        "model.evaluate(x_test, y_test)"
      ],
      "execution_count": 47,
      "outputs": [
        {
          "output_type": "stream",
          "text": [
            "25000/25000 [==============================] - 2s 92us/step\n"
          ],
          "name": "stdout"
        },
        {
          "output_type": "execute_result",
          "data": {
            "text/plain": [
              "[1.2228203309708834, 0.84488]"
            ]
          },
          "metadata": {
            "tags": []
          },
          "execution_count": 47
        }
      ]
    },
    {
      "cell_type": "markdown",
      "metadata": {
        "id": "MaY2Z5o_mo8n",
        "colab_type": "text"
      },
      "source": [
        "### Transpose/reshape data so that it's shaped the way our manual implementation expects."
      ]
    },
    {
      "cell_type": "code",
      "metadata": {
        "id": "xVTtdrfK7dS4",
        "colab_type": "code",
        "colab": {}
      },
      "source": [
        "x_train = x_train.T\n",
        "y_train = y_train.reshape(1, y_train.shape[0])\n",
        "partial_x_train = partial_x_train.T\n",
        "partial_y_train = partial_y_train.reshape(1, partial_y_train.shape[0])\n",
        "x_val = x_val.T\n",
        "y_val = y_val.reshape(1, y_val.shape[0])\n",
        "x_test = x_test.T\n",
        "y_test = y_test.reshape(1, y_test.shape[0])"
      ],
      "execution_count": 0,
      "outputs": []
    },
    {
      "cell_type": "code",
      "metadata": {
        "id": "FUPB3fyq9hfR",
        "colab_type": "code",
        "colab": {
          "base_uri": "https://localhost:8080/",
          "height": 158
        },
        "outputId": "d8252a00-f6c5-4ef8-ec28-dee8913450bb"
      },
      "source": [
        "print(x_train.shape)\n",
        "print(y_train.shape)\n",
        "print(partial_x_train.shape)\n",
        "print(partial_y_train.shape)\n",
        "print(x_val.shape)\n",
        "print(y_val.shape)\n",
        "print(x_test.shape)\n",
        "print(y_test.shape)"
      ],
      "execution_count": 49,
      "outputs": [
        {
          "output_type": "stream",
          "text": [
            "(10000, 25000)\n",
            "(1, 25000)\n",
            "(10000, 15000)\n",
            "(1, 15000)\n",
            "(10000, 10000)\n",
            "(1, 10000)\n",
            "(10000, 25000)\n",
            "(1, 25000)\n"
          ],
          "name": "stdout"
        }
      ]
    },
    {
      "cell_type": "markdown",
      "metadata": {
        "id": "chfeW2nwoexP",
        "colab_type": "text"
      },
      "source": [
        "### Time for you to do stuff!\n",
        "\n",
        "We're going to code this model up from scratch.  We will implement 5 functions:\n",
        "1. `initialize_params` will generate random starting values for the parameters b and w.\n",
        "2. `forward_prop` does the calculations for forward propagation.\n",
        "3. `backward_prop` does the calculations for backward propagation.\n",
        "4. `grad_check` does gradient checking so that we can be sure our backward propagation is correct.  I've written this one.\n",
        "5. `fit_model` does gradient descent to estimate the model parameters.\n",
        "\n",
        "Note that as defined above, our network has 3 layers:\n",
        " * Layer 1 has 16 units and a relu activation\n",
        " * Layer 2 has 16 units and a relu activation\n",
        " * Layer 3 has 1 unit and a sigmoid activation\n",
        "\n",
        "### 1. initialize_params\n",
        "\n",
        "Add the appropriate shape specifications to the initializations below.\n",
        "\n",
        "**Note that you are defining $w$, not $w^T$**"
      ]
    },
    {
      "cell_type": "code",
      "metadata": {
        "id": "G-dyx8N_8Mkr",
        "colab_type": "code",
        "colab": {}
      },
      "source": [
        "def initialize_params(num_features, seed = 9433):\n",
        "  '''\n",
        "  Initialize parameter values for a network with 3 layers:\n",
        "  layer 1 has 16 units, layer 2 has 16 units, and layer 3 has 1 unit\n",
        "\n",
        "  Arguments:\n",
        "    - num_features: number of input features\n",
        "    - seed: seed to use for random number generation\n",
        "  \n",
        "  Return:\n",
        "    - Dictionary with initial values for b1, w1, b2, w2, b3, and w3\n",
        "  '''\n",
        "  # set seed\n",
        "  np.random.seed(seed)\n",
        "\n",
        "  # layer 1 parameters -- replace Nones with appropriate shape\n",
        "  b1 = np.random.standard_normal((16, 1)) * 0.1 \n",
        "  w1 = np.random.standard_normal((x_train.shape[0], 16)) * 0.1\n",
        "\n",
        "  # layer 2 parameters -- replace Nones with appropriate shape\n",
        "  b2 = np.random.standard_normal((16, 1)) * 0.1\n",
        "  w2 = np.random.standard_normal((16, 16)) * 0.1\n",
        "\n",
        "  # layer 3 parameters -- replace Nones with appropriate shape\n",
        "  b3 = np.random.standard_normal((1, 1)) * 0.1\n",
        "  w3 = np.random.standard_normal((16, 1)) * 0.1\n",
        "\n",
        "  return({\n",
        "      'b1': b1,\n",
        "      'w1': w1,\n",
        "      'b2': b2,\n",
        "      'w2': w2,\n",
        "      'b3': b3,\n",
        "      'w3': w3\n",
        "  })"
      ],
      "execution_count": 0,
      "outputs": []
    },
    {
      "cell_type": "markdown",
      "metadata": {
        "id": "ffbcK7QZrkiq",
        "colab_type": "text"
      },
      "source": [
        "### 2. forward_prop"
      ]
    },
    {
      "cell_type": "code",
      "metadata": {
        "id": "MkIvAcc7-DRV",
        "colab_type": "code",
        "colab": {}
      },
      "source": [
        "def forward_prop(params, x):\n",
        "  '''\n",
        "  Forward propagation calculations\n",
        "\n",
        "  Arguments:\n",
        "    - params: dictionary with values for b1, w1, b2, w2, b3, w3\n",
        "    - x: matrix of features, shape (p, m)\n",
        "  \n",
        "  Return:\n",
        "    - Dictionary with z and a values for each layer\n",
        "  '''\n",
        "  # Pull out parameters from params dictionary\n",
        "  b1 = params['b1']\n",
        "  w1 = params['w1']\n",
        "  b2 = params['b2']\n",
        "  w2 = params['w2']\n",
        "  b3 = params['b3']\n",
        "  w3 = params['w3']\n",
        "  \n",
        "  # Calculate forward propagation\n",
        "  # You can use np.maximum(0, ___) to compute the relu activation function\n",
        "  # We have imported the sigmoid function\n",
        "  z1 = b1 + np.dot(w1.T, x)\n",
        "  a1 = np.maximum(0, z1)\n",
        "\n",
        "  z2 = b2 + np.dot(w2.T, a1)\n",
        "  a2 = np.maximum(0, z2)\n",
        "\n",
        "  z3 = b3 + np.dot(w3.T, a2)\n",
        "  a3 = sigmoid(z3)\n",
        "  \n",
        "  # Return dictionary of results from forward propagation\n",
        "  return({\n",
        "    'z1': z1,\n",
        "    'a1': a1,\n",
        "    'z2': z2,\n",
        "    'a2': a2,\n",
        "    'z3': z3,\n",
        "    'a3': a3\n",
        "  })"
      ],
      "execution_count": 0,
      "outputs": []
    },
    {
      "cell_type": "markdown",
      "metadata": {
        "id": "A-BSu3vhtG6J",
        "colab_type": "text"
      },
      "source": [
        "### 3. backward_prop"
      ]
    },
    {
      "cell_type": "code",
      "metadata": {
        "id": "LLIPXARSALF3",
        "colab_type": "code",
        "colab": {}
      },
      "source": [
        "def backward_prop(params, x, y, forward_cache):\n",
        "  '''\n",
        "  Backward propagation calculations\n",
        "\n",
        "  Arguments:\n",
        "    - params: dictionary with values for b1, w1, b2, w2, b3, w3\n",
        "    - x: array of features, shape (p, m)\n",
        "    - y: array of responses, shape (1, m)\n",
        "    - forward_cache: Dictionary with z and a values for each layer\n",
        "      (return value from forward_prop)\n",
        "  \n",
        "  Return:\n",
        "    - Dictionary of derivatives of cost function J with respect to\n",
        "      b1, w1, b2, w2, b3, w3\n",
        "  '''\n",
        "  # Extract quantities needed for backward propagation calculations\n",
        "  m = x.shape[1]\n",
        "\n",
        "  z1 = forward_cache['z1']\n",
        "  a1 = forward_cache['a1']\n",
        "  z2 = forward_cache['z2']\n",
        "  a2 = forward_cache['a2']\n",
        "  z3 = forward_cache['z3']\n",
        "  a3 = forward_cache['a3']\n",
        "\n",
        "  w1 = params['w1']\n",
        "  w2 = params['w2']\n",
        "  w3 = params['w3']\n",
        "\n",
        "  # Backward propagation calculations\n",
        "  # Layer 3\n",
        "  dJdz3 = a3 - y\n",
        "  dJdb3 = np.mean(dJdz3, axis = 1, keepdims=True)\n",
        "  dJdw3 = (1/m) * np.dot(a2, dJdz3.T)\n",
        "\n",
        "  # Layer 2\n",
        "  dJda2 = np.dot(w3, dJdz3)\n",
        "  dJdz2 = dJda2 * (z2 >= 0).astype(float)\n",
        "  dJdb2 = np.mean(dJdz2, axis = 1, keepdims=True)\n",
        "  dJdw2 = (1/m) * np.dot(a1, dJdz2.T)\n",
        "\n",
        "  # Layer 1\n",
        "  dJda1 = np.dot(w2, dJdz2)\n",
        "  dJdz1 = dJda1 * (z1 >= 0).astype(float)\n",
        "  dJdb1 = np.mean(dJdz1, axis = 1, keepdims=True)\n",
        "  dJdw1 = (1/m) * np.dot(x, dJdz1.T)\n",
        "\n",
        "  return({\n",
        "      'dJdb1': dJdb1,\n",
        "      'dJdw1': dJdw1,\n",
        "      'dJdb2': dJdb2,\n",
        "      'dJdw2': dJdw2,\n",
        "      'dJdb3': dJdb3,\n",
        "      'dJdw3': dJdw3\n",
        "  })"
      ],
      "execution_count": 0,
      "outputs": []
    },
    {
      "cell_type": "markdown",
      "metadata": {
        "id": "3_tep-avtLXd",
        "colab_type": "text"
      },
      "source": [
        "### 4. grad_check\n",
        "I have implemented this in the two functions below; you just need to run the code.  After the function definitions, there are calls to check the gradient for a bias parameter and a weight parameter in each of the 3 layers.  Your results should match to at least 6 or 7 decimal places.\n",
        "\n",
        "Although I have implemented this, you should know how this works!"
      ]
    },
    {
      "cell_type": "code",
      "metadata": {
        "id": "BCvqYgt1FfB5",
        "colab_type": "code",
        "colab": {
          "base_uri": "https://localhost:8080/",
          "height": 439
        },
        "outputId": "73640c15-9ffe-4d33-cf4e-dcfefb50b1d3"
      },
      "source": [
        "def loss(a3, y):\n",
        "  '''\n",
        "  Calculate the binary crossentropy loss\n",
        "\n",
        "  Arguments:\n",
        "    - a3: output from layer 3\n",
        "    - y: observed responses\n",
        "  \n",
        "  Return:\n",
        "    - binary cross entropy\n",
        "  '''\n",
        "  m = y.shape[1]\n",
        "  inds_0 = np.where(y == 0)\n",
        "  inds_1 = np.where(y == 1)\n",
        "\n",
        "  return(-1 * (np.sum(np.log(a3[inds_1])) + np.sum(np.log(1 - a3[inds_0]))) / m)\n",
        "\n",
        "def grad_check(param_name, ind1, ind2, eps = 0.000001):\n",
        "  '''\n",
        "  Calculate gradient check by finite differencing\n",
        "\n",
        "  Arguments:\n",
        "    - param_name: name of parameter to check, e.g. 'w1'\n",
        "    - ind1, ind2: indices to check for the specified parameter\n",
        "    - eps: amount to add and subtract from the given parameter value\n",
        "  \n",
        "  Returns:\n",
        "    - No return value.  Prints diagnostic messages.\n",
        "  '''\n",
        "  params = initialize_params(num_features = x_train.shape[0])\n",
        "  forward_cache = forward_prop(params, x_train)\n",
        "\n",
        "  params[param_name][ind1, ind2] = params[param_name][ind1, ind2] + eps\n",
        "  forward_cache_plus_eps = forward_prop(params, x_train)\n",
        "  loss_plus_eps = loss(forward_cache_plus_eps['a3'], y_train)\n",
        "\n",
        "  params[param_name][ind1, ind2] = params[param_name][ind1, ind2] - 2*eps\n",
        "  forward_cache_minus_eps = forward_prop(params, x_train)\n",
        "  loss_minus_eps = loss(forward_cache_minus_eps['a3'], y_train)\n",
        "\n",
        "  est_grad = (loss_plus_eps - loss_minus_eps) / (2 * eps)\n",
        "  calc_grad = backward_prop(params, x_train, y_train, forward_cache)\n",
        "\n",
        "  print(\"\\ncheck of dJd\" + param_name + \"[\" + str(ind1) + \", \" + str(ind2) + \"]\")\n",
        "  print(\"estimated derivative = \" + str(est_grad))\n",
        "  print(\"calculated derivative = \" + str(calc_grad['dJd' + param_name][ind1, ind2]))\n",
        "\n",
        "\n",
        "grad_check('b3', 0, 0)\n",
        "grad_check('w3', 1, 0)\n",
        "grad_check('b2', 0, 0)\n",
        "grad_check('w2', 1, 0)\n",
        "grad_check('b1', 0, 0)\n",
        "grad_check('w1', 1, 0)\n"
      ],
      "execution_count": 57,
      "outputs": [
        {
          "output_type": "stream",
          "text": [
            "\n",
            "check of dJdb3[0, 0]\n",
            "estimated derivative = -0.06645035599550653\n",
            "calculated derivative = -0.06645035592818394\n",
            "\n",
            "check of dJdw3[1, 0]\n",
            "estimated derivative = -0.01705180768807324\n",
            "calculated derivative = -0.01705180760554546\n",
            "\n",
            "check of dJdb2[0, 0]\n",
            "estimated derivative = 4.741124159934884e-05\n",
            "calculated derivative = 4.7411200549146216e-05\n",
            "\n",
            "check of dJdw2[1, 0]\n",
            "estimated derivative = -2.0967116931558394e-06\n",
            "calculated derivative = -2.096640381475816e-06\n",
            "\n",
            "check of dJdb1[0, 0]\n",
            "estimated derivative = 0.002057349846040779\n",
            "calculated derivative = 0.002057349875226606\n",
            "\n",
            "check of dJdw1[1, 0]\n",
            "estimated derivative = 0.002057349846040779\n",
            "calculated derivative = 0.0020573498752266047\n"
          ],
          "name": "stdout"
        }
      ]
    },
    {
      "cell_type": "markdown",
      "metadata": {
        "id": "jAedPjUhvR_t",
        "colab_type": "text"
      },
      "source": [
        "### 5. fit_model"
      ]
    },
    {
      "cell_type": "code",
      "metadata": {
        "id": "DzQsOejUTLqX",
        "colab_type": "code",
        "colab": {}
      },
      "source": [
        "def fit_model(\n",
        "    x_train,\n",
        "    y_train,\n",
        "    num_epochs,\n",
        "    learning_rate,\n",
        "    initial_params):\n",
        "  '''\n",
        "  Fit our model by gradient descent.\n",
        "\n",
        "  Arguments:\n",
        "    - x_train: array of input features of shape (p, m)\n",
        "    - y_train: array of responses of shape (1, m)\n",
        "    - num_epochs: number of iterations of gradient descent to run\n",
        "    - learning_rate: learning rate for gradient descent\n",
        "    - initial_params: dictionary of starting parameter values\n",
        "  \n",
        "  Return:\n",
        "    - Dictionary of parameter estimates b1, w1, b2, w2, b3, w3\n",
        "  '''\n",
        "  # Get initial parameter values\n",
        "  params = initial_params\n",
        "\n",
        "  # For loop should iterate over the number of epochs\n",
        "  for i in range(num_epochs):\n",
        "    # print progress update\n",
        "    print(\"epoch \" + str(i))\n",
        "\n",
        "    # Do forward propagation\n",
        "    forward_cache = forward_prop(params, x_train)\n",
        "\n",
        "    # Calculate and print training set accuracy based on current parameter values\n",
        "    train_set_accuracy = np.mean(y_train == (forward_cache['a3'] >= 0.5).astype(float))\n",
        "    print(\"train set accuracy: \" + str(train_set_accuracy))\n",
        "\n",
        "    # Do backward propagation\n",
        "    calc_grad = backward_prop(params, x_train, y_train, forward_cache)\n",
        "\n",
        "    # Do parameter updates\n",
        "    # I would probably ordinarily loop over the parameter names to do this, but\n",
        "    # I think it will make more sense if you type things in by hand?\n",
        "    # Your update for b1 should involve params['b1'], calc_grad['dJdb1'], and\n",
        "    # the learning rate.\n",
        "    params['b1'] = params['b1'] - learning_rate * calc_grad['dJdb1']\n",
        "    params['w1'] = params['w1'] - learning_rate * calc_grad['dJdw1']\n",
        "    params['b2'] = params['b2'] - learning_rate * calc_grad['dJdb2']\n",
        "    params['w2'] = params['w2'] - learning_rate * calc_grad['dJdw2']\n",
        "    params['b3'] = params['b3'] - learning_rate * calc_grad['dJdb3']\n",
        "    params['w3'] = params['w3'] - learning_rate * calc_grad['dJdw3']\n",
        "  \n",
        "  # Return\n",
        "  return(params)"
      ],
      "execution_count": 0,
      "outputs": []
    },
    {
      "cell_type": "markdown",
      "metadata": {
        "id": "SG--hlelw9eS",
        "colab_type": "text"
      },
      "source": [
        "Call the fit_model function.  To match what was done in the Keras code, you should use `partial_x_train` and `partial_y_train`.  To start, use 20 epochs and a learning rate of 0.1.\n",
        "\n",
        "This should take a little under a minute to run.  Your results won't be that impressive; I got up to about 59% classification accuracy on the training set after 20 epochs.  The reason we're not doing as well as Keras is that we are using a less fancy optimization algorithm.  We'll see on Friday how to make a small adjustment to our optimization routine to get much faster convergence.  For now, you could increase the number of training epochs if you want to."
      ]
    },
    {
      "cell_type": "code",
      "metadata": {
        "id": "B4rHF2YQVFwG",
        "colab_type": "code",
        "colab": {
          "base_uri": "https://localhost:8080/",
          "height": 720
        },
        "outputId": "71c84459-86f0-462f-8809-ef6e026325a5"
      },
      "source": [
        "# generate starting values for the parameters\n",
        "initial_params = initialize_params(num_features = partial_x_train.shape[0])\n",
        "\n",
        "# estimate the parameters by calling your fit_model function\n",
        "param_estimates = fit_model(\n",
        "  partial_x_train,\n",
        "  partial_y_train,\n",
        "  num_epochs=20,\n",
        "  learning_rate=0.5,\n",
        "  initial_params = initial_params)"
      ],
      "execution_count": 63,
      "outputs": [
        {
          "output_type": "stream",
          "text": [
            "epoch 0\n",
            "train set accuracy: 0.5035333333333334\n",
            "epoch 1\n",
            "train set accuracy: 0.5039333333333333\n",
            "epoch 2\n",
            "train set accuracy: 0.5062666666666666\n",
            "epoch 3\n",
            "train set accuracy: 0.5177333333333334\n",
            "epoch 4\n",
            "train set accuracy: 0.531\n",
            "epoch 5\n",
            "train set accuracy: 0.5392\n",
            "epoch 6\n",
            "train set accuracy: 0.5456\n",
            "epoch 7\n",
            "train set accuracy: 0.5500666666666667\n",
            "epoch 8\n",
            "train set accuracy: 0.5569333333333333\n",
            "epoch 9\n",
            "train set accuracy: 0.5603333333333333\n",
            "epoch 10\n",
            "train set accuracy: 0.5612666666666667\n",
            "epoch 11\n",
            "train set accuracy: 0.5640666666666667\n",
            "epoch 12\n",
            "train set accuracy: 0.5672666666666667\n",
            "epoch 13\n",
            "train set accuracy: 0.5706666666666667\n",
            "epoch 14\n",
            "train set accuracy: 0.5734666666666667\n",
            "epoch 15\n",
            "train set accuracy: 0.5761333333333334\n",
            "epoch 16\n",
            "train set accuracy: 0.5792\n",
            "epoch 17\n",
            "train set accuracy: 0.5812666666666667\n",
            "epoch 18\n",
            "train set accuracy: 0.5845333333333333\n",
            "epoch 19\n",
            "train set accuracy: 0.5874666666666667\n"
          ],
          "name": "stdout"
        }
      ]
    },
    {
      "cell_type": "markdown",
      "metadata": {
        "id": "1xtph9P2y4Lw",
        "colab_type": "text"
      },
      "source": [
        "### Get test set performance based on your parameter estimates"
      ]
    },
    {
      "cell_type": "code",
      "metadata": {
        "id": "Khm37iouVd2f",
        "colab_type": "code",
        "colab": {
          "base_uri": "https://localhost:8080/",
          "height": 35
        },
        "outputId": "47c71e19-bfc0-44fa-88c8-d3992313d9db"
      },
      "source": [
        "test_forward = forward_prop(param_estimates, x_test)\n",
        "y_test_hat = (test_forward['a3'] >= 0.5).astype(float)\n",
        "np.mean(y_test_hat == y_test)"
      ],
      "execution_count": 69,
      "outputs": [
        {
          "output_type": "execute_result",
          "data": {
            "text/plain": [
              "0.58624"
            ]
          },
          "metadata": {
            "tags": []
          },
          "execution_count": 69
        }
      ]
    },
    {
      "cell_type": "markdown",
      "metadata": {
        "id": "Qb7sSkKuz0xo",
        "colab_type": "text"
      },
      "source": [
        "### Estimation by Stochastic Gradient Descent\n",
        "\n",
        "**We will talk about this on Friday!  Do not do this on Wednesday.**\n",
        "\n",
        "Implement a function to do stochastic gradient descent:"
      ]
    },
    {
      "cell_type": "code",
      "metadata": {
        "id": "8o2RhfxEaE9e",
        "colab_type": "code",
        "colab": {}
      },
      "source": [
        "def fit_model_SGD(\n",
        "    x_train,\n",
        "    y_train,\n",
        "    num_epochs,\n",
        "    minibatch_size,\n",
        "    learning_rate,\n",
        "    initial_params):\n",
        "  '''\n",
        "  Estimate model parameters by stochastic gradient descent (SGD)\n",
        "\n",
        "  Arguments:\n",
        "    - x_train: array of input features of shape (p, m)\n",
        "    - y_train: array of responses of shape (1, m)\n",
        "    - num_epochs: number of iterations of gradient descent to run\n",
        "    - minibatch_size: number of observations in each minibatch\n",
        "    - learning_rate: learning rate for gradient descent\n",
        "    - initial_params: dictionary of starting parameter values\n",
        "  \n",
        "  Return:\n",
        "    - Dictionary of parameter estimates b1, w1, b2, w2, b3, w3\n",
        "  '''\n",
        "  params = initial_params\n",
        "\n",
        "  # calculate size of each minibatch\n",
        "  m = x_train.shape[1]\n",
        "  num_minibatches = m // minibatch_size + 1\n",
        "\n",
        "  # for loop over the number of epochs\n",
        "  for i in range(num_epochs):\n",
        "    print(\"epoch \" + str(i))\n",
        "    # find and print training set accuracy.  Kindof a waste of time, but nice to see.\n",
        "    forward_cache = forward_prop(params, x_train)\n",
        "    train_set_accuracy = np.mean(y_train == (forward_cache['a3'] >= 0.5).astype(float))\n",
        "    print(\"train set accuracy: \" + str(train_set_accuracy))\n",
        "\n",
        "    # for loop over minibatches within the current epoch\n",
        "    for j in range(num_minibatches):\n",
        "      # print progress indicator.  end = \"\" makes it so there is not a new line\n",
        "      # after each print statement\n",
        "      print(\".\", end = \"\")\n",
        "\n",
        "      # Set up a slice for the observation indices in the current minibatch\n",
        "      # Code to do this will be different depending on whether you're in the\n",
        "      # last minibatch or not.\n",
        "      if j == num_minibatches - 1:\n",
        "        minibatch_inds = slice(j*minibatch_size, m)\n",
        "      else:\n",
        "        minibatch_inds = slice(j*minibatch_size, (j+1)*minibatch_size)\n",
        "      \n",
        "      # pull out the x and y observations for this minibatch\n",
        "      x_train_minibatch = x_train[:, minibatch_inds]\n",
        "      y_train_minibatch = y_train[:, minibatch_inds]\n",
        "\n",
        "      # forward propagation based on this minibatch\n",
        "      forward_cache = forward_prop(params, x_train_minibatch)\n",
        "\n",
        "      # backward propagation based on this minibatch\n",
        "      calc_grad = backward_prop(params, x_train_minibatch, y_train_minibatch, forward_cache)\n",
        "\n",
        "      # gradient descent updates based on thsi minibatch\n",
        "      params['b1'] = params['b1'] - learning_rate * calc_grad['dJdb1']\n",
        "      params['w1'] = params['w1'] - learning_rate * calc_grad['dJdw1']\n",
        "      params['b2'] = params['b2'] - learning_rate * calc_grad['dJdb2']\n",
        "      params['w2'] = params['w2'] - learning_rate * calc_grad['dJdw2']\n",
        "      params['b3'] = params['b3'] - learning_rate * calc_grad['dJdb3']\n",
        "      params['w3'] = params['w3'] - learning_rate * calc_grad['dJdw3']\n",
        "  \n",
        "  # return parameters estimates\n",
        "  return(params)"
      ],
      "execution_count": 0,
      "outputs": []
    },
    {
      "cell_type": "markdown",
      "metadata": {
        "id": "kqtntev81T1t",
        "colab_type": "text"
      },
      "source": [
        "Now you can call the `fit_model_SGD` function to do stochastic gradient descent for our data set using 20 epochs, a minibatch size of 512 observations, and a learning rate of 0.1.  You should see much faster convergence!"
      ]
    },
    {
      "cell_type": "code",
      "metadata": {
        "id": "RTiuDwMCdDO8",
        "colab_type": "code",
        "colab": {
          "base_uri": "https://localhost:8080/",
          "height": 737
        },
        "outputId": "7a7e94e8-6b9a-41cd-8138-b9ca39df2c8a"
      },
      "source": [
        "# generate starting values for the parameters\n",
        "initial_params = initialize_params(num_features = partial_x_train.shape[0])\n",
        "\n",
        "# do estimation\n",
        "params_fit_mb = fit_model_SGD(\n",
        "  partial_x_train,\n",
        "  partial_y_train,\n",
        "  num_epochs=20,\n",
        "  minibatch_size=512,\n",
        "  learning_rate=0.1,\n",
        "  initial_params = initial_params)"
      ],
      "execution_count": 78,
      "outputs": [
        {
          "output_type": "stream",
          "text": [
            "epoch 0\n",
            "train set accuracy: 0.5035333333333334\n",
            "..............................epoch 1\n",
            "train set accuracy: 0.5432666666666667\n",
            "..............................epoch 2\n",
            "train set accuracy: 0.5676666666666667\n",
            "..............................epoch 3\n",
            "train set accuracy: 0.5846666666666667\n",
            "..............................epoch 4\n",
            "train set accuracy: 0.6043333333333333\n",
            "..............................epoch 5\n",
            "train set accuracy: 0.6289333333333333\n",
            "..............................epoch 6\n",
            "train set accuracy: 0.6589333333333334\n",
            "..............................epoch 7\n",
            "train set accuracy: 0.6868\n",
            "..............................epoch 8\n",
            "train set accuracy: 0.7167333333333333\n",
            "..............................epoch 9\n",
            "train set accuracy: 0.7416666666666667\n",
            "..............................epoch 10\n",
            "train set accuracy: 0.765\n",
            "..............................epoch 11\n",
            "train set accuracy: 0.7796666666666666\n",
            "..............................epoch 12\n",
            "train set accuracy: 0.7941333333333334\n",
            "..............................epoch 13\n",
            "train set accuracy: 0.8057333333333333\n",
            "..............................epoch 14\n",
            "train set accuracy: 0.8142666666666667\n",
            "..............................epoch 15\n",
            "train set accuracy: 0.8222\n",
            "..............................epoch 16\n",
            "train set accuracy: 0.832\n",
            "..............................epoch 17\n",
            "train set accuracy: 0.8384\n",
            "..............................epoch 18\n",
            "train set accuracy: 0.8448666666666667\n",
            "..............................epoch 19\n",
            "train set accuracy: 0.8511333333333333\n",
            ".............................."
          ],
          "name": "stdout"
        }
      ]
    },
    {
      "cell_type": "code",
      "metadata": {
        "id": "y5-YGjBQjzc6",
        "colab_type": "code",
        "colab": {
          "base_uri": "https://localhost:8080/",
          "height": 35
        },
        "outputId": "1ebcee7c-8281-407e-988c-5b9e798e5f64"
      },
      "source": [
        "test_forward = forward_prop(params_fit_mb, x_test)\n",
        "y_test_hat = (test_forward['a3'] >= 0.5).astype(float)\n",
        "np.mean(y_test_hat == y_test)"
      ],
      "execution_count": 79,
      "outputs": [
        {
          "output_type": "execute_result",
          "data": {
            "text/plain": [
              "0.8262"
            ]
          },
          "metadata": {
            "tags": []
          },
          "execution_count": 79
        }
      ]
    },
    {
      "cell_type": "code",
      "metadata": {
        "id": "Iy10sabB3ZOe",
        "colab_type": "code",
        "colab": {}
      },
      "source": [
        ""
      ],
      "execution_count": 0,
      "outputs": []
    }
  ]
}